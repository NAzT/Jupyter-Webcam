{
 "cells": [
  {
   "cell_type": "markdown",
   "metadata": {},
   "source": [
    "# Displaying webcam video in IPython notebook at (relatively) high framerate"
   ]
  },
  {
   "cell_type": "markdown",
   "metadata": {},
   "source": [
    "When working on my project I realized, I can use OpenCV in Python to grap image from webcam as Numpy array, modify it and then display it using OpenCV's **cv2.imshow()**. OpenCV will create a window and push my frame there. However, this will not work in a IPython notebook. I found few solutions to implement the same functionality, but they all were slow (about 250 ms per frame).\n",
    "\n",
    "Here, I combine and modify these two examples to get achieve about 5 times higher framerate:\n",
    "1. __[Showing webcame image using OpenCV and matplotlib](https://gist.github.com/tibaes/35b9dbd7cbf81a98955067aa318290e7#file-video)__. Important moment here is that previous frame is cleared from screen using **IPython.display.clear_output()**\n",
    "2. __[Minimal code for rendering a numpy array as an image in a Jupyter notebook in memory](https://gist.github.com/kylemcdonald/2f1b9a255993bf9b2629)__. It uses PIL to convert NumPy array to .PNG format in order to display it with **IPython.display.display()**\n",
    "\n",
    "Both are relatively slow. The slowest step in the first one is the __[matplotlib.pyplot.imshow()](https://matplotlib.org/api/_as_gen/matplotlib.pyplot.imshow.html)__ and the second one spend most of the time converting array data to PNG in __[PIL.Image.save()](https://pillow.readthedocs.io/en/3.1.x/reference/Image.html#PIL.Image.Image.save)__.\n",
    "\n",
    "But converting to PNG is not the fastest and only give me 2-3 FPS. If I use JPEG instead, framerate goes up to 36 FPS, which is not bad."
   ]
  },
  {
   "cell_type": "code",
   "execution_count": 1,
   "metadata": {},
   "outputs": [],
   "source": [
    "# Import the required modules\n",
    "import cv2\n",
    "import time\n",
    "import numpy as np\n",
    "import PIL.Image\n",
    "from io import BytesIO\n",
    "import IPython.display\n",
    "import ipywidgets as widgets\n",
    "import threading"
   ]
  },
  {
   "cell_type": "code",
   "execution_count": 2,
   "metadata": {},
   "outputs": [],
   "source": [
    "#Use 'jpeg' instead of 'png' (~5 times faster)\n",
    "def showarray(a, prev_display_id=None, fmt='jpeg'):\n",
    "    f = BytesIO()\n",
    "    PIL.Image.fromarray(a).save(f, fmt)\n",
    "    obj = IPython.display.Image(data=f.getvalue())\n",
    "    if prev_display_id is not None:\n",
    "        IPython.display.update_display(obj, display_id=prev_display_id)\n",
    "        return prev_display_id\n",
    "    else:\n",
    "        return IPython.display.display(obj, display_id=True)"
   ]
  },
  {
   "cell_type": "code",
   "execution_count": 3,
   "metadata": {},
   "outputs": [],
   "source": [
    "def get_frame(cam):\n",
    "    # Capture frame-by-frame\n",
    "    ret, frame = cam.read()\n",
    "    \n",
    "    #flip image for natural viewing\n",
    "#     frame = cv2.flip(frame, 1)\n",
    "    \n",
    "    return frame"
   ]
  },
  {
   "cell_type": "code",
   "execution_count": 4,
   "metadata": {},
   "outputs": [],
   "source": [
    "def test_cams(usb_cameras):\n",
    "    for usb_camera in usb_cameras:\n",
    "#         print(index)\n",
    "        cap = cv2.VideoCapture()\n",
    "        cap.open(usb_camera.get('path'))\n",
    "        if cap.isOpened():\n",
    "            print(\"active: \", usb_camera.get('path'))\n",
    "        else:\n",
    "            print(\"inactive: \", usb_camera.get('path'))\n",
    "        cap.release()"
   ]
  },
  {
   "cell_type": "code",
   "execution_count": 5,
   "metadata": {},
   "outputs": [
    {
     "name": "stdout",
     "output_type": "stream",
     "text": [
      "[{'path': '/dev/zuppacamera0', 'name': 'zuppacamera0'}, {'path': '/dev/zuppacamera1', 'name': 'zuppacamera1'}]\n",
      "active:  /dev/zuppacamera0\n",
      "active:  /dev/zuppacamera1\n"
     ]
    }
   ],
   "source": [
    "usb_cameras = [\n",
    "    {\n",
    "        \"path\": \"/dev/zuppacamera0\",\n",
    "        \"name\": \"zuppacamera0\"\n",
    "    },\n",
    "    {\n",
    "        \"path\": \"/dev/zuppacamera1\",\n",
    "        \"name\": \"zuppacamera1\"\n",
    "    }\n",
    "]\n",
    "\n",
    "print(usb_cameras)\n",
    "test_cams(usb_cameras)"
   ]
  },
  {
   "cell_type": "code",
   "execution_count": 6,
   "metadata": {},
   "outputs": [],
   "source": [
    "cameras = []\n",
    "\n",
    "def init_cameras():\n",
    "    \n",
    "    for usb_camera in usb_cameras:\n",
    "\n",
    "        cam = cv2.VideoCapture(usb_camera.get('path'))\n",
    "\n",
    "#         cam.set(cv2.CAP_PROP_FRAME_WIDTH, 1280)\n",
    "#         cam.set(cv2.CAP_PROP_FRAME_HEIGHT, 720)\n",
    "    \n",
    "        cam.set(cv2.CAP_PROP_FRAME_WIDTH, 1920)\n",
    "        cam.set(cv2.CAP_PROP_FRAME_HEIGHT, 1080)\n",
    "        \n",
    "        cam.set(cv2.CAP_PROP_FRAME_WIDTH, 1920)\n",
    "        cam.set(cv2.CAP_PROP_FRAME_HEIGHT, 1080)\n",
    "\n",
    "#         cam.set(cv2.CAP_PROP_FRAME_WIDTH, 1920)\n",
    "#         cam.set(cv2.CAP_PROP_FRAME_HEIGHT, 1080)\n",
    "\n",
    "\n",
    "    #     cam.set(cv2.CAP_PROP_AUTO_EXPOSURE, 0.25) #ref: https://github.com/opencv/opencv/issues/9738#issuecomment-346584044\n",
    "    #     cam.set(cv2.CAP_PROP_EXPOSURE, 0.01)\n",
    "    #     cam.set(cv2.CAP_PROP_AUTO_EXPOSURE, 0)\n",
    "    #     cam.set(cv2.CAP_PROP_EXPOSURE, -4.0)\n",
    "\n",
    "        cameras.append({\n",
    "            \"name\": usb_camera.get('name'),\n",
    "            'cam': cam,\n",
    "            'display_id': None,\n",
    "        })\n",
    "        \n",
    "def stop_cameras():      \n",
    "    for camera in cameras:\n",
    "        cam = camera.get('cam')\n",
    "        cam.release()"
   ]
  },
  {
   "cell_type": "code",
   "execution_count": 7,
   "metadata": {},
   "outputs": [],
   "source": [
    "init_cameras()"
   ]
  },
  {
   "cell_type": "code",
   "execution_count": 8,
   "metadata": {
    "scrolled": false
   },
   "outputs": [
    {
     "data": {
      "application/vnd.jupyter.widget-view+json": {
       "model_id": "54a581b4b59c4fab95af96d53e04a784",
       "version_major": 2,
       "version_minor": 0
      },
      "text/plain": [
       "Button(description='Capture All', style=ButtonStyle())"
      ]
     },
     "metadata": {},
     "output_type": "display_data"
    },
    {
     "data": {
      "application/vnd.jupyter.widget-view+json": {
       "model_id": "11c08a8de1804a91afc599dfb0ebf2f5",
       "version_major": 2,
       "version_minor": 0
      },
      "text/plain": [
       "Output()"
      ]
     },
     "metadata": {},
     "output_type": "display_data"
    }
   ],
   "source": [
    "from datetime import datetime\n",
    "import os\n",
    "\n",
    "button = widgets.Button(description=\"Capture All\")\n",
    "button_output = widgets.Output()\n",
    "\n",
    "display(button, button_output)\n",
    "\n",
    "main_dir = './captured'\n",
    "sub_dir = '/tests'\n",
    "final_dir = main_dir+sub_dir\n",
    "\n",
    "if not os.path.exists(final_dir):\n",
    "    os.makedirs(final_dir)\n",
    "\n",
    "def on_button_clicked(b):\n",
    "    with button_output:\n",
    "        \n",
    "#         print(\"Capturing...\")\n",
    "#         IPython.display.clear_output(wait=True)\n",
    "\n",
    "        datetime_str = datetime.today().strftime('%Y-%m-%d_%H:%M:%S')\n",
    "    \n",
    "        for camera_num, camera in enumerate(cameras):\n",
    "\n",
    "            name = camera.get('name')\n",
    "            cam = camera.get('cam')\n",
    "            for x in range(6): #lame way to clear image buffer\n",
    "                frame = get_frame(cam)\n",
    "            \n",
    "            final_name = datetime_str+'_camera_'+str(name)+'.jpg'\n",
    "            cv2.imwrite(final_dir + '/' + final_name, frame) #need to create folder called captures first!\n",
    "\n",
    "\n",
    "            # Convert the image from OpenCV BGR format to matplotlib RGB format\n",
    "            # to display the image\n",
    "            frame = cv2.cvtColor(frame, cv2.COLOR_BGR2RGB)\n",
    "\n",
    "            display_id = camera.get('display_id')\n",
    "            if display_id is not None:\n",
    "                showarray(frame, display_id)\n",
    "            else:\n",
    "                display_handle = showarray(frame)\n",
    "                camera['display_id'] = display_handle.display_id\n",
    "                \n",
    "\n",
    "#         print(\"Captured.\")\n",
    "#         IPython.display.clear_output(wait=True)\n",
    "        \n",
    "\n",
    "button.on_click(on_button_clicked)"
   ]
  },
  {
   "cell_type": "code",
   "execution_count": 9,
   "metadata": {},
   "outputs": [],
   "source": [
    "\n",
    "# stop_cameras()        \n",
    "    \n",
    "# print (\"Stream stopped\")"
   ]
  },
  {
   "cell_type": "code",
   "execution_count": null,
   "metadata": {},
   "outputs": [],
   "source": []
  }
 ],
 "metadata": {
  "kernelspec": {
   "display_name": "Python 3",
   "language": "python",
   "name": "python3"
  },
  "language_info": {
   "codemirror_mode": {
    "name": "ipython",
    "version": 3
   },
   "file_extension": ".py",
   "mimetype": "text/x-python",
   "name": "python",
   "nbconvert_exporter": "python",
   "pygments_lexer": "ipython3",
   "version": "3.6.9"
  }
 },
 "nbformat": 4,
 "nbformat_minor": 2
}
